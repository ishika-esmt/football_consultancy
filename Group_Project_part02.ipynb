{
  "cells": [
    {
      "cell_type": "markdown",
      "id": "ec53c0a8-133a-4675-96cb-a540991f9b62",
      "metadata": {
        "id": "ec53c0a8-133a-4675-96cb-a540991f9b62"
      },
      "source": [
        "# Group Project part 02\n",
        "\n",
        "#### Deadline for the code submission: October 14th at 01:29 pm CET\n",
        "\n",
        "#### Reminder\n",
        "- your group is the one assigned to you by the University.\n",
        "- one goal of this project is to learn how to work as a group, which is the standard in the tech industry. Therefore you need to resolve group issues on your own, as a group.\n",
        "- if you did not manage to resolve the group issues on your own, you need to escalate to the teacher early, not last minute.\n",
        "- if the group splits, it would result in a 0 for the whole group.\n",
        "\n",
        "**Penalty for unexcused absence or lateness**:\n",
        "- If you are absent or late on presentation day without an official excuse, you will receive 0 for the presentation part of the group project.\n",
        "- If you are late without an official excuse and can still make it to the presentation of your team, you will still receive 0 for the presentation part of the group project."
      ]
    },
    {
      "cell_type": "markdown",
      "id": "9f539776-8b27-44a9-8cfd-a71371dbe043",
      "metadata": {
        "id": "9f539776-8b27-44a9-8cfd-a71371dbe043"
      },
      "source": [
        "## Objective\n",
        "In this project, you utilise your skills to :\n",
        "- collect data through multiple APIs and open source datasets, for both quantitative and qualitative data\n",
        "- merge data from different sources\n",
        "- describe and analyse datasets\n",
        "- uncover patterns, insights\n",
        "- calculate aggregated measures, statistics\n",
        "- create compelling data visualisations\n",
        "- write clean code\n",
        "- tell a story and convince your audience\n",
        "\n",
        "Each group can pick one and one only scenario among the following ones.\n",
        "\n",
        "Be mindful to pick a topic that enables enough data collection and analysis in order to showcase all the skills gathered during the course, listed above.\n",
        "\n",
        "### Scenario 01: Become a Business Manager\n",
        "\n",
        "Your task is to design a local business that leverages data from various APIs to make informed, strategic decisions. Whether you're launching a street food stand, a drink shop, or another local venture, your team will gather and analyze relevant data —such as foot traffic, weather patterns, customer trends, or competitor insights— to shape your business plan. Your final deliverable will be a data-supported report and/or presentation to a management board, demonstrating how your findings guide key decisions in operations, marketing, or product offerings. The ultimate goal: to optimize performance and increase the chances of business success. Will your business thrive in today’s data-driven world?\n",
        "Examples:\n",
        "- lemonade stands business\n",
        "- food truck business\n",
        "- delivery service\n",
        "\n",
        "### Scenario 02: Fact Check Popular beliefs\n",
        "\n",
        "You are part of a fact-checking research team investigating common beliefs, trending opinions, or viral social media claims (e.g. “drinking lemon water boosts metabolism” or “blue light ruins your sleep”). Your goal is to dig into reliable sources, data, and expert opinions to determine whether these beliefs hold up under scrutiny. Use data to challenge or prove real-world claims with clear, persuasive insights. Drawing on research, statistics, and visual evidence, your team will present a well-supported explanation to help your audience separate fact from fiction.\n",
        "\n",
        "You may also choose to divide the group into two sides—one defending the belief and the other challenging it—before presenting your findings in a debate or side-by-side analysis.\n",
        "\n",
        "Examples:\n",
        "- Electric cars are always better for the environment\n",
        "- Areas with more green space have better physical and mental health outcomes.\n",
        "- Does public sentiment on social media predict stock market trends?"
      ]
    },
    {
      "cell_type": "markdown",
      "id": "255dc3ee-d438-429b-8fde-1ee6db039f34",
      "metadata": {
        "id": "255dc3ee-d438-429b-8fde-1ee6db039f34"
      },
      "source": [
        "## 04 - Data cleaning and processing\n",
        "\n",
        "In order to make data-driven decisions, you will need to clean the collected data, fill missing values, merge datasets etc.\n",
        "\n",
        "Take some time to clean and process the collected data so that you can use it.\n",
        "\n",
        "Organize the dataset into a structured format, such as a CSV file, HTML file, EXCEL file, and a table where each row represents the achieved data."
      ]
    },
    {
      "cell_type": "code",
      "execution_count": null,
      "id": "08210ca2-d9b9-4c82-adeb-edb755ff7788",
      "metadata": {
        "id": "08210ca2-d9b9-4c82-adeb-edb755ff7788"
      },
      "outputs": [],
      "source": []
    },
    {
      "cell_type": "markdown",
      "id": "fb4c7552-5ee6-4ea0-a1fa-6578f9fc9ca0",
      "metadata": {
        "id": "fb4c7552-5ee6-4ea0-a1fa-6578f9fc9ca0"
      },
      "source": [
        "## 05 - Compute relevant statistics\n",
        "\n",
        "Get together as a group and ask yourselves: what questions would you like to answer?\n",
        "\n",
        "Compute descriptive statistics that inform you about the future and enable you to answer these questions.\n",
        "\n",
        "Reminder: this should help you to achieve your end goal.\n"
      ]
    },
    {
      "cell_type": "code",
      "execution_count": null,
      "id": "e14d8e15-a194-452d-a423-ef1f0fc9fb6f",
      "metadata": {
        "id": "e14d8e15-a194-452d-a423-ef1f0fc9fb6f"
      },
      "outputs": [],
      "source": []
    },
    {
      "cell_type": "code",
      "execution_count": null,
      "id": "a25c20df-95ec-4f57-b1ea-9cb4ae1fa8ac",
      "metadata": {
        "id": "a25c20df-95ec-4f57-b1ea-9cb4ae1fa8ac"
      },
      "outputs": [],
      "source": []
    }
  ],
  "metadata": {
    "kernelspec": {
      "display_name": "Python 3 (ipykernel)",
      "language": "python",
      "name": "python3"
    },
    "language_info": {
      "codemirror_mode": {
        "name": "ipython",
        "version": 3
      },
      "file_extension": ".py",
      "mimetype": "text/x-python",
      "name": "python",
      "nbconvert_exporter": "python",
      "pygments_lexer": "ipython3",
      "version": "3.9.19"
    },
    "colab": {
      "provenance": []
    }
  },
  "nbformat": 4,
  "nbformat_minor": 5
}
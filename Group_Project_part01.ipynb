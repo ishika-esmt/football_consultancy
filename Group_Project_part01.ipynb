{
  "cells": [
    {
      "cell_type": "markdown",
      "id": "ec53c0a8-133a-4675-96cb-a540991f9b62",
      "metadata": {
        "id": "ec53c0a8-133a-4675-96cb-a540991f9b62"
      },
      "source": [
        "# Group Project part 01\n",
        "\n",
        "#### Deadline for the code submission: October 10th at 08:59 am CET\n",
        "\n",
        "#### Reminder\n",
        "- your group is the one assigned to you by the University.\n",
        "- one goal of this project is to learn how to work as a group, which is the standard in the tech industry. Therefore you need to resolve group issues on your own, as a group.\n",
        "- if you did not manage to resolve the group issues on your own, you need to escalate to the teacher early, not last minute.\n",
        "- if the group splits, it would result in a 0 for the whole group.\n",
        "\n",
        "**Penalty for unexcused absence or lateness**:\n",
        "- If you are absent or late on presentation day without an official excuse, you will receive 0 for the presentation part of the group project.\n",
        "- If you are late without an official excuse and can still make it to the presentation of your team, you will still receive 0 for the presentation part of the group project."
      ]
    },
    {
      "cell_type": "markdown",
      "id": "9f539776-8b27-44a9-8cfd-a71371dbe043",
      "metadata": {
        "id": "9f539776-8b27-44a9-8cfd-a71371dbe043"
      },
      "source": [
        "## Objective\n",
        "In this project, you utilise your skills to :\n",
        "- collect data through multiple APIs and open source datasets, for both quantitative and qualitative data\n",
        "- merge data from different sources\n",
        "- describe and analyse datasets\n",
        "- uncover patterns, insights\n",
        "- calculate aggregated measures, statistics\n",
        "- create compelling data visualisations\n",
        "- write clean code\n",
        "- tell a story and convince your audience\n",
        "\n",
        "Each group can pick one and one only scenario among the following ones.\n",
        "\n",
        "Be mindful to pick a topic that enables enough data collection and analysis in order to showcase all the skills gathered during the course, listed above.\n",
        "\n",
        "### Scenario 01: Become a Business Manager\n",
        "\n",
        "Your task is to design a local business that leverages data from various APIs to make informed, strategic decisions. Whether you're launching a street food stand, a drink shop, or another local venture, your team will gather and analyze relevant data —such as foot traffic, weather patterns, customer trends, or competitor insights— to shape your business plan. Your final deliverable will be a data-supported report and/or presentation to a management board, demonstrating how your findings guide key decisions in operations, marketing, or product offerings. The ultimate goal: to optimize performance and increase the chances of business success. Will your business thrive in today’s data-driven world?\n",
        "Examples:\n",
        "- lemonade stands business\n",
        "- food truck business\n",
        "- delivery service\n",
        "\n",
        "### Scenario 02: Fact Check Popular beliefs\n",
        "\n",
        "You are part of a fact-checking research team investigating common beliefs, trending opinions, or viral social media claims (e.g. “drinking lemon water boosts metabolism” or “blue light ruins your sleep”). Your goal is to dig into reliable sources, data, and expert opinions to determine whether these beliefs hold up under scrutiny. Use data to challenge or prove real-world claims with clear, persuasive insights. Drawing on research, statistics, and visual evidence, your team will present a well-supported explanation to help your audience separate fact from fiction.\n",
        "\n",
        "You may also choose to divide the group into two sides—one defending the belief and the other challenging it—before presenting your findings in a debate or side-by-side analysis.\n",
        "\n",
        "Examples:\n",
        "- Electric cars are always better for the environment\n",
        "- Areas with more green space have better physical and mental health outcomes.\n",
        "- Does public sentiment on social media predict stock market trends?"
      ]
    },
    {
      "cell_type": "markdown",
      "id": "519e47f3-51ae-440c-a2ed-cbf2647c7d7e",
      "metadata": {
        "id": "519e47f3-51ae-440c-a2ed-cbf2647c7d7e"
      },
      "source": [
        "## 01 - Getting Ready: first questions\n",
        "\n",
        "Depending on the scenario you picked, please consider the following questions to help you get started.\n",
        "\n",
        "### Scenario 01: Become a Business Manager\n",
        "\n",
        "   - What kind of business do we run? What do we sell ? The choice of the business must be original and unique to your group.\n",
        "   - How do we name our business?\n",
        "   - When do we operate? Is it an all-year-round business or a seasonal one? If so, which seasons? Which months / weeks / days / hours of the day do we operate?\n",
        "   - Where do we operate? In which countries / cities are we currently active ? Where do we want to develop in the future ? Determine where to set up your business stand based on weather conditions, local attractions, or events.\n",
        "   - Which datasets will assist us in making our business the most successful?\n",
        "\n",
        "### Scenario 02: Fact-Check a popular belief\n",
        "\n",
        "- What specific belief or claim do you want to investigate ?\n",
        "- Why is this belief important or worth fact-checking ?\n",
        "- What evidence or data supports or contradicts the belief ?\n",
        "- Will you split the team into two group (in favor / against) ?\n",
        "- What real-world impact does this belief have on people ?\n",
        "- What are the consequences if people continue believing or acting on this (true or false) idea ?"
      ]
    },
    {
      "cell_type": "markdown",
      "id": "5f57de6f-d6ae-4dde-a79d-7c3e1b9f9470",
      "metadata": {
        "id": "5f57de6f-d6ae-4dde-a79d-7c3e1b9f9470"
      },
      "source": [
        "## 02 - Collect data from multiple APIs, the more the merrier\n",
        "\n",
        "Integrate with as many APIs as you can e.g.:\n",
        "- OpenWeatherMap API\n",
        "- Google Maps,\n",
        "- TripAdvisor,\n",
        "- News API,\n",
        "- Yelp,\n",
        "- Wikipedia,\n",
        "- Booking,\n",
        "- Amadeus Travel API,\n",
        "- Foursquare,\n",
        "- etc. (make your own research and be original!)\n",
        "\n",
        "Each API can provide different types of information. Pick the ones that best suit your scenario.\n",
        "\n",
        "After collecting all the data you need, save them."
      ]
    },
    {
      "cell_type": "code",
      "execution_count": null,
      "id": "648bfcf3-4bbf-43ea-af80-d23bb42b96a9",
      "metadata": {
        "id": "648bfcf3-4bbf-43ea-af80-d23bb42b96a9"
      },
      "outputs": [],
      "source": []
    },
    {
      "cell_type": "markdown",
      "source": [
        "## 03 - Collect data from open source data sources\n",
        "\n",
        "The dataset must align with your end-goal and serve its purpose.\n",
        "\n",
        "- governement websites\n",
        "- statistics institutes,\n",
        "- etc.\n",
        "\n",
        "At the end of this step, you should have collected both quantitative and qualitative data."
      ],
      "metadata": {
        "id": "g5e7tUp_OLA9"
      },
      "id": "g5e7tUp_OLA9"
    },
    {
      "cell_type": "code",
      "execution_count": null,
      "id": "e930dd77-2b42-4cd8-87dc-53bbc4771706",
      "metadata": {
        "id": "e930dd77-2b42-4cd8-87dc-53bbc4771706"
      },
      "outputs": [],
      "source": []
    },
    {
      "cell_type": "code",
      "execution_count": null,
      "id": "a25c20df-95ec-4f57-b1ea-9cb4ae1fa8ac",
      "metadata": {
        "id": "a25c20df-95ec-4f57-b1ea-9cb4ae1fa8ac"
      },
      "outputs": [],
      "source": []
    }
  ],
  "metadata": {
    "kernelspec": {
      "display_name": "Python 3 (ipykernel)",
      "language": "python",
      "name": "python3"
    },
    "language_info": {
      "codemirror_mode": {
        "name": "ipython",
        "version": 3
      },
      "file_extension": ".py",
      "mimetype": "text/x-python",
      "name": "python",
      "nbconvert_exporter": "python",
      "pygments_lexer": "ipython3",
      "version": "3.9.19"
    },
    "colab": {
      "provenance": []
    }
  },
  "nbformat": 4,
  "nbformat_minor": 5
}
{
  "cells": [
    {
      "cell_type": "markdown",
      "id": "ec53c0a8-133a-4675-96cb-a540991f9b62",
      "metadata": {
        "id": "ec53c0a8-133a-4675-96cb-a540991f9b62"
      },
      "source": [
        "# Group Project part 03\n",
        "\n",
        "#### Deadline for the code submission: October 15th at 08:59 am CET\n",
        "\n",
        "#### Reminder\n",
        "- your group is the one assigned to you by the University.\n",
        "- one goal of this project is to learn how to work as a group, which is the standard in the tech industry. Therefore you need to resolve group issues on your own, as a group.\n",
        "- if you did not manage to resolve the group issues on your own, you need to escalate to the teacher early, not last minute.\n",
        "- if the group splits, it would result in a 0 for the whole group.\n",
        "\n",
        "**Penalty for unexcused absence or lateness**:\n",
        "- If you are absent or late on presentation day without an official excuse, you will receive 0 for the presentation part of the group project.\n",
        "- If you are late without an official excuse and can still make it to the presentation of your team, you will still receive 0 for the presentation part of the group project."
      ]
    },
    {
      "cell_type": "markdown",
      "id": "9f539776-8b27-44a9-8cfd-a71371dbe043",
      "metadata": {
        "id": "9f539776-8b27-44a9-8cfd-a71371dbe043"
      },
      "source": [
        "## Objective\n",
        "In this project, you utilise your skills to :\n",
        "- collect data through multiple APIs and open source datasets, for both quantitative and qualitative data\n",
        "- merge data from different sources\n",
        "- describe and analyse datasets\n",
        "- uncover patterns, insights\n",
        "- calculate aggregated measures, statistics\n",
        "- create compelling data visualisations\n",
        "- write clean code\n",
        "- tell a story and convince your audience\n",
        "\n",
        "Each group can pick one and one only scenario among the following ones.\n",
        "\n",
        "Be mindful to pick a topic that enables enough data collection and analysis in order to showcase all the skills gathered during the course, listed above.\n",
        "\n",
        "### Scenario 01: Become a Business Manager\n",
        "\n",
        "Your task is to design a local business that leverages data from various APIs to make informed, strategic decisions. Whether you're launching a street food stand, a drink shop, or another local venture, your team will gather and analyze relevant data —such as foot traffic, weather patterns, customer trends, or competitor insights— to shape your business plan. Your final deliverable will be a data-supported report and/or presentation to a management board, demonstrating how your findings guide key decisions in operations, marketing, or product offerings. The ultimate goal: to optimize performance and increase the chances of business success. Will your business thrive in today’s data-driven world?\n",
        "Examples:\n",
        "- lemonade stands business\n",
        "- food truck business\n",
        "- delivery service\n",
        "\n",
        "### Scenario 02: Fact Check Popular beliefs\n",
        "\n",
        "You are part of a fact-checking research team investigating common beliefs, trending opinions, or viral social media claims (e.g. “drinking lemon water boosts metabolism” or “blue light ruins your sleep”). Your goal is to dig into reliable sources, data, and expert opinions to determine whether these beliefs hold up under scrutiny. Use data to challenge or prove real-world claims with clear, persuasive insights. Drawing on research, statistics, and visual evidence, your team will present a well-supported explanation to help your audience separate fact from fiction.\n",
        "\n",
        "You may also choose to divide the group into two sides—one defending the belief and the other challenging it—before presenting your findings in a debate or side-by-side analysis.\n",
        "\n",
        "Examples:\n",
        "- Electric cars are always better for the environment\n",
        "- Areas with more green space have better physical and mental health outcomes.\n",
        "- Does public sentiment on social media predict stock market trends?"
      ]
    },
    {
      "cell_type": "markdown",
      "id": "7f1a6a40-648f-40f4-a3b9-f8e971297a4b",
      "metadata": {
        "id": "7f1a6a40-648f-40f4-a3b9-f8e971297a4b"
      },
      "source": [
        "## 06 - Clean and clear visualisations\n",
        "\n",
        "Create **data visualisations** that clearly state your point and support your decision-making.\n",
        "\n",
        "\n",
        "**Presentation: present each data visualisation and integrate them in your storytelling. Explain why they are relevant for your decision-making.**"
      ]
    },
    {
      "cell_type": "code",
      "execution_count": null,
      "id": "e2f0d147-aadb-486d-8454-a98efb0e810f",
      "metadata": {
        "id": "e2f0d147-aadb-486d-8454-a98efb0e810f"
      },
      "outputs": [],
      "source": []
    },
    {
      "cell_type": "markdown",
      "id": "b0948046-36fe-4cd8-bc28-0dc914fef0fe",
      "metadata": {
        "id": "b0948046-36fe-4cd8-bc28-0dc914fef0fe"
      },
      "source": [
        "## 07 - Presentation\n",
        "\n",
        "> Make a presentation about your scenario, the data you've collected and the direction you're taking in the next months.\n",
        "\n",
        "\n",
        "- describe your scenario and plant the context\n",
        "- specify the location and the timeframe\n",
        "- describe the APIs and the data collected, why they are relevant\n",
        "- explain the steps your team took in order to get to a clean and structured dataset\n",
        "- display the statistics and relevant data visualisations that helped you make informed decisions.\n",
        "- draw the conclusions based on the data analysis you have performed.\n",
        "- create a good story!"
      ]
    },
    {
      "cell_type": "code",
      "execution_count": null,
      "id": "a25c20df-95ec-4f57-b1ea-9cb4ae1fa8ac",
      "metadata": {
        "id": "a25c20df-95ec-4f57-b1ea-9cb4ae1fa8ac"
      },
      "outputs": [],
      "source": []
    }
  ],
  "metadata": {
    "kernelspec": {
      "display_name": "Python 3 (ipykernel)",
      "language": "python",
      "name": "python3"
    },
    "language_info": {
      "codemirror_mode": {
        "name": "ipython",
        "version": 3
      },
      "file_extension": ".py",
      "mimetype": "text/x-python",
      "name": "python",
      "nbconvert_exporter": "python",
      "pygments_lexer": "ipython3",
      "version": "3.9.19"
    },
    "colab": {
      "provenance": []
    }
  },
  "nbformat": 4,
  "nbformat_minor": 5
}